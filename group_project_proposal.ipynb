{
 "cells": [
  {
   "cell_type": "markdown",
   "id": "2d7f7cbe-44d9-4915-84b2-5f18754288a8",
   "metadata": {},
   "source": [
    "# Heart Disease Classification (Group 5)\n"
   ]
  },
  {
   "cell_type": "markdown",
   "id": "1163b4b3-dc9e-42af-86d5-f09314614be0",
   "metadata": {},
   "source": [
    "## Introduction"
   ]
  },
  {
   "cell_type": "markdown",
   "id": "f7d208ff-ce41-44be-b211-ab481dd28081",
   "metadata": {},
   "source": [
    "Heart disease is a common health condition that affects many people around the world, with coronary disease being a significant contributor to its prevalence. Coronary artery disease refers to the buildup of plaque in the wall of the arteries that supply blood to the heart, otherwise known as atherosclerosis. Plaque buildup will cause the inside of the arteries to narrow over time, leading to reduced blood flow to the heart muscle. Various diagnostic measures, such as cholesterol levels, blood pressure, and electrocardiogram (ECG) readings, play crucial roles in assessing the presence and severity of this condition. Given the significant impact of coronary disease on public health, predictive analytics can help us gain a better understanding of the relationship between risk factors and disease development, ultimately guiding efforts to prevent and manage heart disease effectively.\n",
    "\n",
    "Through our predictive analysis, we hope to address the following question: \n",
    "\n",
    "**Question:** How can we use diagnostic measurements such as age, sex, chest pain type, resting blood pressure, serum cholesterol, fasting blood sugar level, resting electrocardiographic results, … etc, to classify whether a patitent has heart disease? (Presence = 1,2,3,4; Absence = 0).\n",
    "\n",
    "**Our dataset:** The dataset we have selected is a subset ofed heart disease diagnosis database that contains information about 303 unique patients undergoing angiography at the Cleveland Clinic in Cleveland, Ohio. Each entry contains 14 attributes for each patient as listed in the following: \n",
    "\n",
    "- Age (age)\n",
    "- Sex (sex)\n",
    "- Chest pain type (cp)\n",
    "    - Value 1: Typical angina\n",
    "    - Value 2: Atypical angina\n",
    "    - Value 3: Non-anginal pain\n",
    "    - Value 4: Asymptomatic   \n",
    "- Resting blood pressure (trestbps)  \n",
    "    - In mm Hg on admission to the hospital\n",
    "- Serum cholesterol (chol)\n",
    "    - In mg/dl      \n",
    "- Fasting blood sugar > 120 mg/dl  (fbs)       \n",
    "    - Value 0: false\n",
    "    - Value 1: true\n",
    "- Resting electrocardiographic results (restecg)   \n",
    "    - Value 0: Normal\n",
    "    - Value 1: Having ST-T wave abnormality (T wave inversions and/or ST elevation or depression of > 0.05 mV)\n",
    "    - Value 2: Showing probable or definite left ventricular hypertrophy by Estes' criteria\n",
    "- Maximum heart rate achieved (thalach)   \n",
    "- Exercise induced angina (exang) \n",
    "    - Value 0: No\n",
    "    - Value 1: Yes \n",
    "- ST depression induced by exercise relative to rest (oldpeak)   \n",
    "- The slope of the peak exercise ST segment  (slope) \n",
    "    - Value 1: Upsloping\n",
    "    - Value 2: Flat\n",
    "    - Value 3: Downsloping  \n",
    "- Number of major vessels (0-3) colored by flourosopy (ca)     \n",
    "- Exercise Thallium heart scan (thal)\n",
    "    - Value 3: Normal\n",
    "    - Value 6: Fixed defect\n",
    "    - Value 7: Reversable defect     \n",
    "- Diagnosis of heart disease: Angiographic disease status (num) \n",
    "    - Value 0: < 50% diameter narrowing\n",
    "    - Value 1: > 50% diameter narrowing\n",
    "\n",
    "g\n",
    "\r\n"
   ]
  },
  {
   "cell_type": "code",
   "execution_count": 1,
   "id": "d9127e23-b636-423d-88ba-948044a28de5",
   "metadata": {},
   "outputs": [
    {
     "ename": "ERROR",
     "evalue": "Error in initial_split(heart_disease_data, prop = 0.75, strata = Status): could not find function \"initial_split\"\n",
     "output_type": "error",
     "traceback": [
      "Error in initial_split(heart_disease_data, prop = 0.75, strata = Status): could not find function \"initial_split\"\nTraceback:\n"
     ]
    }
   ],
   "source": [
    "#splitting dataframe into training, testing datasets\n",
    "heart_split <- initial_split(heart_disease_data, prop = 0.75, strata = Status)\n",
    "\n",
    "heart_train <- training(heart_split)\n",
    "heart_test <- testing(heart_split)"
   ]
  },
  {
   "cell_type": "markdown",
   "id": "976e005b-0b2c-4b93-a761-3219218b0f06",
   "metadata": {},
   "source": [
    "## Preliminary exploratory data analysis"
   ]
  },
  {
   "cell_type": "code",
   "execution_count": null,
   "id": "17e4a122-9d70-4779-89cd-511138006c29",
   "metadata": {},
   "outputs": [],
   "source": [
    "library(tidyverse)\n",
    "library(repr)\n",
    "library(tidymodels)\n",
    "options(repr.matrix.max.rows = 6)"
   ]
  },
  {
   "cell_type": "markdown",
   "id": "46e823df-d466-434b-b83f-ef9e940cb2a4",
   "metadata": {},
   "source": [
    "### Reading the data"
   ]
  },
  {
   "cell_type": "code",
   "execution_count": null,
   "id": "4d34615f-e360-4fd3-8700-3992c1b1aaf6",
   "metadata": {},
   "outputs": [],
   "source": [
    "heart_disease_data <- read.csv(\"data/processed_cleveland.csv\")\n",
    "colnames(heart_disease_data) <- c(\"Age\", \"Sex\", \"Chest_Pain_Type\", \"Resting_Blood_Pressure\", \"Serum_Cholestoral\", \"Fasting_Blood_Sugar\", \"Resting_ECG\", \"Max_Heart_Rate\", \"Exercise_Induced_Angina\", \"ST_depression\", \"Slope\", \"Vessels_Number\", \"Exercise_Thallium_Heart_Scan\", \"Status\")\n",
    "heart_disease_data <- heart_disease_data |>\n",
    "                mutate(Status = as_factor(Status)) |>\n",
    "                mutate(Status = fct_recode(Status, \"Absense\" = \"0\", \"Presence\" = \"1\", \"Presence\" = \"2\", \"Presence\" = \"3\", \"Presence\" = \"4\"))"
   ]
  },
  {
   "cell_type": "markdown",
   "id": "d32dee1d-7a69-4f79-bdb6-04799c6749f3",
   "metadata": {},
   "source": [
    "### Selecting potential predictors among the variables"
   ]
  },
  {
   "cell_type": "code",
   "execution_count": null,
   "id": "95b26f2d-975f-480f-b89a-e3a5dca91a0d",
   "metadata": {},
   "outputs": [],
   "source": [
    "# This is to separate the data/columns we will use in our model to classify whether the patient has heart disease or not.\n",
    "heart_data <- select(heart_disease_data, Age, Resting_Blood_Pressure, Serum_Cholestoral, Max_Heart_Rate, ST_depression, Status)\n",
    "heart_data "
   ]
  },
  {
   "cell_type": "markdown",
   "id": "ce46403f-5563-44af-944a-2336020ba59f",
   "metadata": {},
   "source": [
    "### Summarizing the data"
   ]
  },
  {
   "cell_type": "markdown",
   "id": "f4b7a390-f963-4370-a996-8e4c3eeefd6c",
   "metadata": {},
   "source": [
    "We are going to use only training data from this point on for our data exploration."
   ]
  },
  {
   "cell_type": "code",
   "execution_count": null,
   "id": "1727f6f2-f7f4-4e56-bab0-ca8d0a7ce8e6",
   "metadata": {},
   "outputs": [],
   "source": [
    "#splitting dataframe into training, testing datasets\n",
    "heart_split <- initial_split(heart_data, prop = 0.75, strata = Status)\n",
    "\n",
    "heart_train <- training(heart_split)\n",
    "heart_test <- testing(heart_split)"
   ]
  },
  {
   "cell_type": "markdown",
   "id": "dfdb124b-775a-4625-b371-780b732f28e3",
   "metadata": {},
   "source": [
    "First, we have derived some summary statistics for each of the predictor values in our dataset. The following table displays the mean of each predictor variable and the count of each observation, grouped by the patients with and without presence of heart disease in the dataset."
   ]
  },
  {
   "cell_type": "code",
   "execution_count": null,
   "id": "88f2b0fb-c8fe-4e9f-ac18-7fab5198547f",
   "metadata": {},
   "outputs": [],
   "source": [
    "#summarizing to get mean of each predictor\n",
    "heart_summary <- heart_train |>\n",
    "                    group_by(Status) |>\n",
    "                    summarize(mean_Age = mean(Age), mean_Resting_Blood_Pressure = mean(Resting_Blood_Pressure),\n",
    "                              mean_Serum_Cholestoral = mean(Serum_Cholestoral), \n",
    "                              mean_Max_Heart_Rate = mean(Max_Heart_Rate), mean_ST_depression = mean(ST_depression),\n",
    "                              n_count = n(), missing_data_count = sum(is.na(heart_train)))\n",
    "\n",
    "heart_summary"
   ]
  },
  {
   "cell_type": "markdown",
   "id": "7e0fae64-7811-4b50-b61b-b5a2e5023b84",
   "metadata": {},
   "source": [
    "### Visualizing the data"
   ]
  },
  {
   "cell_type": "markdown",
   "id": "33bb8d38-e94f-4b73-bb32-f77c696dc593",
   "metadata": {},
   "source": [
    "Then, we can use the visualizations below compare the distribution of the predictors we will be using for our analysis."
   ]
  },
  {
   "cell_type": "code",
   "execution_count": null,
   "id": "47eeddbb-08f2-4ab3-bb67-be57e7cf35d1",
   "metadata": {},
   "outputs": [],
   "source": [
    "# Age\n",
    "options(repr.plot.width=12, repr.plot.height=6)\n",
    "age_distribution <- ggplot(heart_train, aes(x = Age, fill = as_factor(Status))) + \n",
    "                    geom_histogram() +\n",
    "                    facet_grid(cols = vars(Status)) + \n",
    "                    labs(x = \"Age (Years)\", y = \"Count\", fill = \"Age\") +\n",
    "                    ggtitle(\"Age Distribution\") +\n",
    "                    theme(text = element_text(size = 14))\n",
    "age_distribution\n",
    "\n",
    "# Resting Blood Pressure\n",
    "options(repr.plot.width=13, repr.plot.height=6)\n",
    "rbp_distribution <- ggplot(heart_train, aes(x = Resting_Blood_Pressure, fill = as_factor(Status))) + \n",
    "                    geom_histogram() +\n",
    "                    facet_grid(cols = vars(Status)) + \n",
    "                    labs(x = \"Resting Blood Pressure (mmHg)\", y = \"Count\", fill = \"Resting Blood Pressure\") +\n",
    "                    ggtitle(\"Resting Blood Pressure Distribution\") +\n",
    "                    theme(text = element_text(size = 14))\n",
    "rbp_distribution\n",
    "\n",
    "# Serum Cholestoral\n",
    "options(repr.plot.width=12.5, repr.plot.height=6)\n",
    "chol_distribution <- ggplot(heart_train, aes(x = Serum_Cholestoral, fill = as_factor(Status))) + \n",
    "                    geom_histogram() +\n",
    "                    facet_grid(cols = vars(Status)) + \n",
    "                    labs(x = \"Serum Cholestoral (mg/dL)\", y = \"Count\", fill = \"Serum Cholestoral\") +\n",
    "                    ggtitle(\"Serum Cholestoral Distribution\") +\n",
    "                    theme(text = element_text(size = 14))\n",
    "chol_distribution\n",
    "\n",
    "# Maximum Heart Rate\n",
    "options(repr.plot.width=14, repr.plot.height=6)\n",
    "maxhr_distribution <- ggplot(heart_train, aes(x = Max_Heart_Rate, fill = as_factor(Status))) + \n",
    "                    geom_histogram() +\n",
    "                    facet_grid(cols = vars(Status)) + \n",
    "                    labs(x = \"Maximum Heart Rate (bpm)\", y = \"Count\", fill = \"Maximum Heart Rate achieved\t\") +\n",
    "                    ggtitle(\"Maximum Heart Rate Distribution\") +\n",
    "                    theme(text = element_text(size = 14))\n",
    "maxhr_distribution\n",
    "\n",
    "# ST depression\n",
    "options(repr.plot.width=12.5, repr.plot.height=6)\n",
    "st_distribution <- ggplot(heart_train, aes(x = ST_depression, fill = as_factor(Status))) + \n",
    "                    geom_histogram() +\n",
    "                    facet_grid(cols = vars(Status)) + \n",
    "                    labs(x = \"ST depression induced by exercise relative to rest (mm)\", y = \"Count\", fill = \"ST depression level\") +\n",
    "                    ggtitle(\"ST depression Distribution\") +\n",
    "                    theme(text = element_text(size = 14))\n",
    "st_distribution"
   ]
  },
  {
   "cell_type": "markdown",
   "id": "e67e2abd-7200-4048-b946-18f75df9f9ba",
   "metadata": {},
   "source": [
    "In all the plots above, we can observe that the dataset is well distributed for all the predictor variables which confirms that the predictors chosen are ideal for the classfication problem."
   ]
  },
  {
   "cell_type": "markdown",
   "id": "f1b4cf2a-7258-4f02-84f7-c6547c6315ab",
   "metadata": {},
   "source": [
    "## Methods"
   ]
  },
  {
   "cell_type": "code",
   "execution_count": null,
   "id": "d668b588-1e4c-4383-88ad-ce6f60853b5b",
   "metadata": {},
   "outputs": [],
   "source": [
    "#Explain how you will conduct either your data analysis and which variables/columns you will use.\n",
    "#Describe at least one way that you will visualize the results.\n",
    "\n",
    "Because the dataset we loaded has already determined whether the patient has heart disease (listed in column \"Status\"), \n",
    "we will use the technique of regression to make a model and test its accuracy of determining heart disease by comparing it to the non-filtered graph (at the beginning).\n",
    "The variables we have chosen to use in our model to determine the presence of heart disease are Age, Chest Pain Type, Resting Blood Pressure, and Serum Cholestoral.\n",
    "\n",
    "To visualize the results we will...\n",
    "\n",
    "# If you guys have any ideas for this I am all ears."
   ]
  },
  {
   "cell_type": "markdown",
   "id": "a4fa5a78-26fd-4e04-9df7-bcca188ec355",
   "metadata": {},
   "source": [
    "## Expected outcomes and significance:"
   ]
  },
  {
   "cell_type": "code",
   "execution_count": null,
   "id": "6d2a3d85-cc16-4012-b375-65e9e57b5624",
   "metadata": {},
   "outputs": [],
   "source": []
  },
  {
   "cell_type": "markdown",
   "id": "6ef8834a-48b3-4d07-8b42-c53a939fc637",
   "metadata": {},
   "source": [
    "## References"
   ]
  },
  {
   "cell_type": "markdown",
   "id": "74896030-c174-47a7-b47c-769b818ddce3",
   "metadata": {},
   "source": [
    "Janosi,Andras, Steinbrunn,William, Pfisterer,Matthias, and Detrano,Robert. (1988). Heart Disease. UCI Machine Learning Repository. https://doi.org/10.24432/C52P4X.\n",
    "\n",
    "Centers for Disease Control and Prevention. (2021, July 19). Coronary artery disease. Centers for Disease Control and Prevention. https://www.cdc.gov/heartdisease/coronary_ad.htm "
   ]
  }
 ],
 "metadata": {
  "kernelspec": {
   "display_name": "R",
   "language": "R",
   "name": "ir"
  },
  "language_info": {
   "codemirror_mode": "r",
   "file_extension": ".r",
   "mimetype": "text/x-r-source",
   "name": "R",
   "pygments_lexer": "r",
   "version": "4.3.1"
  }
 },
 "nbformat": 4,
 "nbformat_minor": 5
}
