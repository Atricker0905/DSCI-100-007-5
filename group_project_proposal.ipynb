{
 "cells": [
  {
   "cell_type": "markdown",
   "id": "cf5d0f91-57ea-4ae4-9431-555a78a807c4",
   "metadata": {},
   "source": [
    "# Heart Disease Classification (Group 5)\n"
   ]
  },
  {
   "cell_type": "code",
   "execution_count": 2,
   "id": "17e4a122-9d70-4779-89cd-511138006c29",
   "metadata": {},
   "outputs": [],
   "source": [
    "library(tidyverse)\n",
    "library(repr)\n",
    "library(tidymodels)\n",
    "options(repr.matrix.max.rows = 6)"
   ]
  }
 ],
 "metadata": {
  "kernelspec": {
   "display_name": "R",
   "language": "R",
   "name": "ir"
  },
  "language_info": {
   "codemirror_mode": "r",
   "file_extension": ".r",
   "mimetype": "text/x-r-source",
   "name": "R",
   "pygments_lexer": "r",
   "version": "4.3.1"
  }
 },
 "nbformat": 4,
 "nbformat_minor": 5
}
