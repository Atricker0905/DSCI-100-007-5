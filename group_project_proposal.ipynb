{
 "cells": [
  {
   "cell_type": "markdown",
   "id": "2d7f7cbe-44d9-4915-84b2-5f18754288a8",
   "metadata": {},
   "source": [
    "# Heart Disease Classification (Group 5)\n"
   ]
  },
  {
   "cell_type": "markdown",
   "id": "1163b4b3-dc9e-42af-86d5-f09314614be0",
   "metadata": {},
   "source": [
    "## Introduction"
   ]
  },
  {
   "cell_type": "markdown",
   "id": "7ba5fac9-66f4-43f2-8ff4-0638a9198207",
   "metadata": {},
   "source": [
    "Heart disease is a common health condition that affects many people around the world, with coronary disease being a significant contributor to its prevalence. Coronary artery disease refers to the buildup of plaque in the wall of the arteries that supply blood to the heart, otherwise known as atherosclerosis. Plaque buildup will cause the inside of the arteries to narrow over time, leading to reduced blood flow to the heart muscle. Various diagnostic measures, such as cholesterol levels, blood pressure, and electrocardiogram (ECG) readings, play crucial roles in assessing the presence and severity of this condition. Given the significant impact of coronary disease on public health, predictive analytics can help us gain a better understanding of the relationship between risk factors and disease development, ultimately guiding efforts to prevent and manage heart disease effectively.\n",
    "\n",
    "Through our predictive analysis, we hope to address the following question: \n",
    "\n",
    "**Question:** How can we use diagnostic measurements such as age, resting blood pressure, serum cholesterol, maximum heart rate, and ST depression to classify whether a patitent has heart disease? (Presence = 1,2,3,4; Absence = 0).\n",
    "\n",
    "**Our dataset:** The dataset we have selected is a subset of a heart disease diagnosis database that contains information about 303 unique patients undergoing angiography at the Cleveland Clinic in Cleveland, Ohio. Each entry contains 14 attributes for each patient as listed in the following: \n",
    "\n",
    "- Age **(age)**\n",
    "- Sex **(sex)**\n",
    "- Chest pain type {1 = Typical angina, 2 = Atypical angina, 3 = Non-anginal pain, 4 = Asymptomatic} **(cp)**\n",
    "- Resting blood pressure **(trestbps)**  \n",
    "    - In mm Hg on admission to the hospital\n",
    "- Serum cholesterol **(chol)**\n",
    "    - In mg/dl      \n",
    "- Fasting blood sugar > 120 mg/dl {0 = false, 1 = true} **(fbs)**   \n",
    "- Resting electrocardiographic results {0 = Normal, 1 = ST-T wave abnormality, 2 = Probable/definite left ventricular hypertrophy } **(restecg)**   \n",
    "- Maximum heart rate achieved **(thalach)**   \n",
    "- Exercise induced angina {0 = No, 1 = Yes} **(exang)** \n",
    "- ST depression induced by exercise relative to rest **(oldpeak)**   \n",
    "- The slope of the peak exercise ST segment {1 = Upsloping, 2 = Flat, 3 = Downsloping} **(slope)** \n",
    "- Number of major vessels (0-3) colored by flourosopy **(ca)**     \n",
    "- Exercise Thallium heart scan {3 = Normal, 6 = Fixed defect, 7 = Reversable defect} **(thal)**    \n",
    "- Diagnosis of heart disease: Angiographic disease status {0 = < 50% diameter narrowing, 1 = > 50% diameter narrowing} **(num)** "
   ]
  },
  {
   "cell_type": "markdown",
   "id": "976e005b-0b2c-4b93-a761-3219218b0f06",
   "metadata": {},
   "source": [
    "## Preliminary exploratory data analysis"
   ]
  },
  {
   "cell_type": "code",
   "execution_count": null,
   "id": "17e4a122-9d70-4779-89cd-511138006c29",
   "metadata": {},
   "outputs": [],
   "source": [
    "library(tidyverse)\n",
    "library(repr)\n",
    "library(dplyr)\n",
    "library(tidymodels)\n",
    "library(ggplot2)\n",
    "options(repr.matrix.max.rows = 6)"
   ]
  },
  {
   "cell_type": "markdown",
   "id": "46e823df-d466-434b-b83f-ef9e940cb2a4",
   "metadata": {},
   "source": [
    "### Reading the data"
   ]
  },
  {
   "cell_type": "code",
   "execution_count": null,
   "id": "4d34615f-e360-4fd3-8700-3992c1b1aaf6",
   "metadata": {},
   "outputs": [],
   "source": [
    "heart_disease_data <- read.csv(\"data/processed_cleveland.csv\")\n",
    "colnames(heart_disease_data) <- c(\"Age\", \"Sex\", \"Chest_Pain_Type\", \"Resting_Blood_Pressure\", \"Serum_Cholestoral\", \"Fasting_Blood_Sugar\", \"Resting_ECG\", \"Max_Heart_Rate\", \"Exercise_Induced_Angina\", \"ST_depression\", \"Slope\", \"Vessels_Number\", \"Exercise_Thallium_Heart_Scan\", \"Status\")\n",
    "heart_disease_data <- heart_disease_data |>\n",
    "                mutate(Status = as_factor(Status)) |>\n",
    "                mutate(Status = fct_recode(Status, \"Absense\" = \"0\", \"Presence\" = \"1\", \"Presence\" = \"2\", \"Presence\" = \"3\", \"Presence\" = \"4\"))\n",
    "heart_disease_data"
   ]
  },
  {
   "cell_type": "markdown",
   "id": "d32dee1d-7a69-4f79-bdb6-04799c6749f3",
   "metadata": {},
   "source": [
    "### Selecting potential predictors among the variables"
   ]
  },
  {
   "cell_type": "markdown",
   "id": "bcb59629-7dd2-43d1-b7bb-75c05d0ff1ca",
   "metadata": {},
   "source": [
    "In order to choose the best predictors for this classification problem, we selected all the numerical (non-factor) variables from the dataset."
   ]
  },
  {
   "cell_type": "code",
   "execution_count": null,
   "id": "95b26f2d-975f-480f-b89a-e3a5dca91a0d",
   "metadata": {},
   "outputs": [],
   "source": [
    "# This is to separate the data/columns we will use in our model to classify whether the patient has heart disease or not.\n",
    "heart_data <- select(heart_disease_data, Age, Resting_Blood_Pressure, Serum_Cholestoral, Max_Heart_Rate, ST_depression, Status)\n",
    "heart_data "
   ]
  },
  {
   "cell_type": "markdown",
   "id": "ce46403f-5563-44af-944a-2336020ba59f",
   "metadata": {},
   "source": [
    "### Summarizing the data"
   ]
  },
  {
   "cell_type": "markdown",
   "id": "f4b7a390-f963-4370-a996-8e4c3eeefd6c",
   "metadata": {},
   "source": [
    "We are going to use only training data from this point on for our data exploration."
   ]
  },
  {
   "cell_type": "code",
   "execution_count": null,
   "id": "1727f6f2-f7f4-4e56-bab0-ca8d0a7ce8e6",
   "metadata": {},
   "outputs": [],
   "source": [
    "#splitting dataframe into training, testing datasets\n",
    "heart_split <- initial_split(heart_data, prop = 0.75, strata = Status)\n",
    "\n",
    "heart_train <- training(heart_split)\n",
    "heart_test <- testing(heart_split)"
   ]
  },
  {
   "cell_type": "markdown",
   "id": "dfdb124b-775a-4625-b371-780b732f28e3",
   "metadata": {},
   "source": [
    "First, we have derived some summary statistics for each of the predictor values in our dataset. The following table displays the mean of each predictor variable and the count of each observation, grouped by the patients with and without presence of heart disease in the dataset."
   ]
  },
  {
   "cell_type": "code",
   "execution_count": null,
   "id": "88f2b0fb-c8fe-4e9f-ac18-7fab5198547f",
   "metadata": {},
   "outputs": [],
   "source": [
    "#summarizing to get mean of each predictor\n",
    "heart_summary <- heart_train |>\n",
    "                    group_by(Status) |>\n",
    "                    summarize(mean_Age = mean(Age), mean_Resting_Blood_Pressure = mean(Resting_Blood_Pressure),\n",
    "                              mean_Serum_Cholestoral = mean(Serum_Cholestoral), \n",
    "                              mean_Max_Heart_Rate = mean(Max_Heart_Rate), mean_ST_depression = mean(ST_depression),\n",
    "                              n_count = n(), missing_data_count = sum(is.na(heart_train)))\n",
    "\n",
    "heart_summary"
   ]
  },
  {
   "cell_type": "markdown",
   "id": "7e0fae64-7811-4b50-b61b-b5a2e5023b84",
   "metadata": {},
   "source": [
    "### Visualizing the data"
   ]
  },
  {
   "cell_type": "markdown",
   "id": "33bb8d38-e94f-4b73-bb32-f77c696dc593",
   "metadata": {},
   "source": [
    "Then, we can use the visualizations below compare the distribution of the predictors we will be using for our analysis."
   ]
  },
  {
   "cell_type": "code",
   "execution_count": null,
   "id": "47eeddbb-08f2-4ab3-bb67-be57e7cf35d1",
   "metadata": {},
   "outputs": [],
   "source": [
    "options(repr.plot.width=12, repr.plot.height=6)\n",
    "# Age\n",
    "age_distribution <- ggplot(heart_train, aes(x = Age, fill = as_factor(Status))) + \n",
    "                    geom_histogram(binwidth = 5) +\n",
    "                    facet_grid(cols = vars(Status)) + \n",
    "                    labs(x = \"Age (Years)\", y = \"Count\", fill = \"Age\") +\n",
    "                    ggtitle(\"Age Distribution\") +\n",
    "                    theme(text = element_text(size = 14))\n",
    "\n",
    "# Resting Blood Pressure\n",
    "rbp_distribution <- ggplot(heart_train, aes(x = Resting_Blood_Pressure, fill = as_factor(Status))) + \n",
    "                    geom_histogram(binwidth = 25) +\n",
    "                    labs(x = \"Resting Blood Pressure (mmHg)\", y = \"Count\", fill = \"Resting Blood Pressure\") +\n",
    "                    ggtitle(\"Resting Blood Pressure Distribution\") +\n",
    "                    facet_grid(cols = vars(Status)) + \n",
    "                    theme(text = element_text(size = 14))\n",
    "\n",
    "# Serum Cholestoral\n",
    "chol_distribution <- ggplot(heart_train, aes(x = Serum_Cholestoral, fill = as_factor(Status))) + \n",
    "                    geom_histogram(binwidth = 25) +\n",
    "                    facet_grid(cols = vars(Status)) + \n",
    "                    labs(x = \"Serum Cholestoral (mg/dL)\", y = \"Count\", fill = \"Serum Cholestoral\") +\n",
    "                    ggtitle(\"Serum Cholestoral Distribution\") +\n",
    "                    theme(text = element_text(size = 14))\n",
    "\n",
    "# Maximum Heart Rate\n",
    "maxhr_distribution <- ggplot(heart_train, aes(x = Max_Heart_Rate, fill = as_factor(Status))) + \n",
    "                    geom_histogram(binwidth = 25) +\n",
    "                    facet_grid(cols = vars(Status)) + \n",
    "                    labs(x = \"Maximum Heart Rate (bpm)\", y = \"Count\", fill = \"Maximum Heart Rate achieved\t\") +\n",
    "                    ggtitle(\"Maximum Heart Rate Distribution\") +\n",
    "                    theme(text = element_text(size = 14))\n",
    "\n",
    "# ST depression\n",
    "st_distribution <- ggplot(heart_train, aes(x = ST_depression, fill = as_factor(Status))) + \n",
    "                    geom_histogram(binwidth = 0.5) +\n",
    "                    facet_grid(cols = vars(Status)) + \n",
    "                    labs(x = \"ST depression induced by exercise relative to rest (mm)\", y = \"Count\", fill = \"ST depression level\") +\n",
    "                    ggtitle(\"ST depression Distribution\") +\n",
    "                    theme(text = element_text(size = 14))\n",
    "age_distribution\n",
    "rbp_distribution\n",
    "chol_distribution\n",
    "maxhr_distribution\n",
    "st_distribution"
   ]
  },
  {
   "cell_type": "markdown",
   "id": "35c8675b-a49a-439c-b2de-cbc408d4d0fb",
   "metadata": {},
   "source": [
    "Furthermore, to visualize relationships in our data, we used scatter plots to plot the predictors against each other."
   ]
  },
  {
   "cell_type": "code",
   "execution_count": null,
   "id": "174c2545-85be-4dc4-951a-a552d10f72f8",
   "metadata": {},
   "outputs": [],
   "source": [
    "options(repr.plot.width=12, repr.plot.height=6)\n",
    "age_vs_max_plot <- ggplot(heart_train, aes(x = Age, y = Max_Heart_Rate, color = Status)) +\n",
    "                     geom_point() +\n",
    "                     labs(x = \"Age (Years)\", y = \"Maximum Heart Rate (bpm)\", color = \"Status\") +\n",
    "                     ggtitle(\"Age Vs Maximum Heart Rate\") +\n",
    "                     theme(text = element_text(size = 14))\n",
    "\n",
    "rbp_vs_st_plot <- ggplot(heart_train, aes(x = Resting_Blood_Pressure, y = ST_depression, color = Status)) +\n",
    "                     geom_point() +\n",
    "                     labs(x = \"Resting Blood Pressure (mmHg)\", y = \"ST depression (mm)\", color = \"Status\") +\n",
    "                     ggtitle(\"Resting Blood Pressure Vs ST depression\") +\n",
    "                     theme(text = element_text(size = 14))\n",
    "rbp_vs_chol_plot <- ggplot(heart_train, aes(x = Serum_Cholestoral, y = Resting_Blood_Pressure, color = Status)) +\n",
    "                     geom_point() +\n",
    "                     labs(x = \"Serum Cholestoral (mg/dL)\", y = \"Resting Blood Pressure (mmHg)\", color = \"Status\") +\n",
    "                     ggtitle(\"Resting Blood Pressure Vs Serum Cholestoral\") +\n",
    "                     theme(text = element_text(size = 14))\n",
    "\n",
    "age_vs_max_plot\n",
    "rbp_vs_st_plot\n",
    "rbp_vs_chol_plot"
   ]
  },
  {
   "cell_type": "markdown",
   "id": "8d28c706-76eb-48ee-8d93-c069c75335bd",
   "metadata": {},
   "source": [
    "From the plots above, we can see that there is a clear pattern between all the predictor variables being plotted. For example, we notice that lower maximum heart rate achieved is associated with higher age, with majority of the patients with heart disease falling in this region too. Visualizing the data helped us identify the best predictors to use, which ended up aligning with our background research. Moreover, regions of patients with/without heart disease, and a mixing of the two can be easily distinguished in all three plots above, which confirms that the predictors we selected are ideal for the classification."
   ]
  },
  {
   "cell_type": "markdown",
   "id": "f1b4cf2a-7258-4f02-84f7-c6547c6315ab",
   "metadata": {},
   "source": [
    "## Methods"
   ]
  },
  {
   "cell_type": "markdown",
   "id": "5ff3e512-8a10-4bfd-b740-177761b35f50",
   "metadata": {},
   "source": [
    "We will be using the K-nearest neighbour (knn) classification method to predict the result of our target, **Status**, which takes values 0 (absence) or 1,2,3,4 (presence). Among the 14 attributes provided in the original dataset, the variables we have chosen to use in our model to determine the presence of heart disease are Age, Maximum Heart Rate, Resting Blood Pressure, Serum Cholestoral, and ST depression.\n",
    "\n",
    "Our data will be standardized before splitting into 75% training and 25% testing datasets. We will be working with the training set for our analysis and creating a model using the kknn engine. The value of K will be determined through a 5-fold cross validation.\n",
    "\n",
    "To visualize our results, we will use a scatterplot to compare the correlation between two of our predictive variables, where each point will be categorized with either presence or absence of heart disease.\n",
    "This will visually demonstrate what conditions may increase one's risk."
   ]
  },
  {
   "cell_type": "markdown",
   "id": "a4fa5a78-26fd-4e04-9df7-bcca188ec355",
   "metadata": {},
   "source": [
    "## Expected outcomes and significance"
   ]
  },
  {
   "cell_type": "markdown",
   "id": "5d8a35eb-526d-42ea-8cfa-19198bb4414a",
   "metadata": {},
   "source": [
    "We expect to find that patients with a higher age will more likely have heart disease, as age correlates to increased risk due to deteriorating cardiovascular functions (Rodgers et al., 2019). High blood pressure and cholesterol are considered major risk factors, so patients classified with heart disease will likely have higher levels (Fryar et al., 2012). Maximum heart rate has a close inverse relationship to age (Lach et al., 2012). As heart disease risk increases with age, we may find that patients with lower heart rate, likely signifying a higher age, would lead to a higher probability of heart disease. ST depression (seen on ECGs) can be linked to certain heart conditions. ST depression induced by exercise relative to rest can help diagnose coronary atherosclerosis (Lanza et al., 2002). Therefore, we may see that higher ST depression is linked to cases of heart disease.\n",
    "\n",
    "Determining whether a patient has heart disease based on certain factors is valuable because we can predict risk without extensive medical tests. This saves time and resources. Although this does not replace actual diagnoses, this analysis will help patients understand factors associated with heart disease and ways to prevent it.\n",
    "\n",
    "Further investigation could lead to analyzing other variables in the Cleveland dataset, such as fasting blood sugar, to better understand the risk factors associated with heart disease. Moreover, our dataset only contains patient data from one geographic area. A future project could be to compare our data set and predictive model with heart diagnosis data from other databases to determine if the correlation between risk factors and heart disease observed in this dataset is similar for patients in other parts of the world."
   ]
  },
  {
   "cell_type": "markdown",
   "id": "6ef8834a-48b3-4d07-8b42-c53a939fc637",
   "metadata": {},
   "source": [
    "## References"
   ]
  },
  {
   "cell_type": "markdown",
   "id": "74896030-c174-47a7-b47c-769b818ddce3",
   "metadata": {},
   "source": [
    "Centers for Disease Control and Prevention. (2021, July 19). Coronary artery disease. Centers for Disease Control and Prevention. https://www.cdc.gov/heartdisease/coronary_ad.htm \n",
    "\n",
    "Fryar, C. D., Chen, T. C., & Li, X. (2012). Prevalence of uncontrolled risk factors for cardiovascular disease: United States, 1999-2010. NCHS data brief, (103), 1–8.\n",
    "\n",
    "Janosi,Andras, Steinbrunn,William, Pfisterer,Matthias, and Detrano,Robert. (1988). Heart Disease. UCI Machine Learning Repository. https://doi.org/10.24432/C52P4X.\n",
    "\n",
    "Lach, J., Wiecha, S., Śliż, D., Price, S., Zaborski, M., Cieśliński, I., Postuła, M., Knechtle, B., & Mamcarz, A. (2021). Hr max prediction based on age, body composition, fitness level, testing modality and sex in physically active population. Frontiers in Physiology, 12, 695950. https://doi.org/10.3389/fphys.2021.695950\n",
    "\n",
    "Lanza, G. A., Mustilli, M., Sestito, A., Infusino, F., Sgueglia, G. A., & Crea, F. (2004). Diagnostic and prognostic value of ST segment depression limited to the recovery phase of exercise stress test. Heart (British Cardiac Society), 90(12), 1417–1421. https://doi.org/10.1136/hrt.2003.031260\n",
    "\n",
    "Rodgers, J. L., Jones, J., Bolleddu, S. I., Vanthenapalli, S., Rodgers, L. E., Shah, K., Karia, K., & Panguluri, S. K. (2019). Cardiovascular Risks Associated with Gender and Aging. Journal of cardiovascular development and disease, 6(2), 19. https://doi.org/10.3390/jcdd6020019"
   ]
  }
 ],
 "metadata": {
  "kernelspec": {
   "display_name": "R",
   "language": "R",
   "name": "ir"
  },
  "language_info": {
   "codemirror_mode": "r",
   "file_extension": ".r",
   "mimetype": "text/x-r-source",
   "name": "R",
   "pygments_lexer": "r",
   "version": "4.3.1"
  }
 },
 "nbformat": 4,
 "nbformat_minor": 5
}
